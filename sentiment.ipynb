{
 "cells": [
  {
   "cell_type": "code",
   "execution_count": 1,
   "id": "8cb4b35b",
   "metadata": {},
   "outputs": [],
   "source": [
    "import pandas as pd\n",
    "import numpy as np\n",
    "import os\n",
    "import re\n",
    "import contractions\n",
    "import string\n",
    "import nltk\n",
    "from nltk.tokenize import word_tokenize\n",
    "from nltk.corpus import stopwords\n",
    "#nltk.download('stopwords')\n",
    "from nltk.stem.snowball import SnowballStemmer\n",
    "from nltk.corpus import opinion_lexicon"
   ]
  },
  {
   "cell_type": "code",
   "execution_count": 2,
   "id": "c89cbd6e",
   "metadata": {
    "scrolled": true
   },
   "outputs": [
    {
     "data": {
      "text/plain": [
       "['Baltic states appeal for Nato help after Russia’s assault on Ukraine_2022-02-24.txt',\n",
       " 'EU holds emergency summit after Russia attacks Ukraine_2022-02-24.txt',\n",
       " 'Putin opens a dark new chapter in Europe_2022-02-24.txt',\n",
       " 'Putin’s distortion of Ukraine’s history lays ground for further operations_2022-02-22.txt',\n",
       " 'Russia’s aggression tests limits of Ukraine’s restraint_2022-02-22.txt',\n",
       " 'Russia’s invasion of Ukraine rattles markets_2022-02-24.txt',\n",
       " 'UK imposes package of sanctions on Russia in response to Ukraine invasion_2022-02-24.txt',\n",
       " 'Ukrainefood prices war is a punch in the breadbasket for poor importers_2022-02-24.txt',\n",
       " 'Vladimir Putin abandons hopes of Ukraine deal and shifts to land-grab strategy_2022-02-24.txt',\n",
       " 'Vladimir Putin orders troops into eastern Ukraine after recognising breakaway republics_2022-02-22.txt',\n",
       " \"Volodymyr Zelensky’s appeal to Russians ‘The people of Ukraine want peace'_2022-02-24.txt\",\n",
       " 'Zelensky steps up in crisis to become Ukraine’s wartime commander-in-chief_2022-02-24.txt',\n",
       " '‘What is the end game’ Russia’s multipronged assault on Ukraine_2022-02-24.txt']"
      ]
     },
     "execution_count": 2,
     "metadata": {},
     "output_type": "execute_result"
    }
   ],
   "source": [
    "path_name = \"L:/year2_sem3/Pembroke/supervision/Russia-Ukraine war\"\n",
    "NEWS_FILE = os.listdir(path_name)\n",
    "NEWS_FILE = [file for file in NEWS_FILE if file != 'stock price']\n",
    "NEWS_FILE"
   ]
  },
  {
   "cell_type": "markdown",
   "id": "ae5a5d7f",
   "metadata": {},
   "source": [
    "# Text Normalization"
   ]
  },
  {
   "cell_type": "code",
   "execution_count": 3,
   "id": "7d831f7a",
   "metadata": {},
   "outputs": [],
   "source": [
    "stop_words = set(stopwords.words('english'))\n",
    "stop_words.discard('not')"
   ]
  },
  {
   "cell_type": "code",
   "execution_count": 4,
   "id": "9d07c147",
   "metadata": {},
   "outputs": [],
   "source": [
    "def normalize(text, default_replace = \"\"):\n",
    "    #handle URL\n",
    "    text = re.sub(\"(http|https):\\/\\/\\S+\", default_replace, text)\n",
    "    \n",
    "    #remove upper capitalization\n",
    "    text = text.lower()\n",
    "    \n",
    "    #word contraction\n",
    "    for k,v in contractions.contractions_dict.items():\n",
    "        text = text.replace(k,v)\n",
    "     \n",
    "    #tokenization\n",
    "    token_list = word_tokenize(text)\n",
    "    \n",
    "    token_list = [token for token in token_list if token not in string.punctuation]\n",
    "    token_list = [token for token in token_list if token.isalpha()]\n",
    "    token_list = [token for token in token_list if not token in stop_words]\n",
    "\n",
    "    return token_list"
   ]
  },
  {
   "cell_type": "markdown",
   "id": "93205dd5",
   "metadata": {},
   "source": [
    "# Stemming"
   ]
  },
  {
   "cell_type": "code",
   "execution_count": 5,
   "id": "8a16fb2e",
   "metadata": {},
   "outputs": [],
   "source": [
    "stemmer = SnowballStemmer(\"english\")"
   ]
  },
  {
   "cell_type": "code",
   "execution_count": 6,
   "id": "7a5336fd",
   "metadata": {},
   "outputs": [],
   "source": [
    "def stem_tokens(tokens, stemmer):\n",
    "    token_list = []\n",
    "    for token in tokens:\n",
    "        token_list.append(stemmer.stem(token))\n",
    "    return token_list"
   ]
  },
  {
   "cell_type": "code",
   "execution_count": 7,
   "id": "36aefc9b",
   "metadata": {},
   "outputs": [],
   "source": [
    "def process_text(file):\n",
    "    with open(f'{path_name}/{file}', encoding=\"utf8\") as f:\n",
    "        text = f.read()\n",
    "    \n",
    "    tokens = normalize(text)\n",
    "    stem = stem_tokens(tokens, stemmer)\n",
    "\n",
    "    return stem   "
   ]
  },
  {
   "cell_type": "markdown",
   "id": "a6c1b742",
   "metadata": {},
   "source": [
    "# Sentiment analysis "
   ]
  },
  {
   "cell_type": "code",
   "execution_count": 8,
   "id": "e82713cf",
   "metadata": {},
   "outputs": [],
   "source": [
    "positive_lexiceon = set(opinion_lexicon.positive())\n",
    "negative_lexiceon = set(opinion_lexicon.negative())"
   ]
  },
  {
   "cell_type": "code",
   "execution_count": 9,
   "id": "90fae954",
   "metadata": {
    "scrolled": true
   },
   "outputs": [
    {
     "data": {
      "text/plain": [
       "{'news1': [0.019867549668874173, 0.033112582781456956, -0.25],\n",
       " 'news2': [0.03436807095343681, 0.041019955654102, -0.08823529411764706],\n",
       " 'news3': [0.024029574861367836, 0.07024029574861368, -0.4901960784313726],\n",
       " 'news6': [0.03048780487804878, 0.03048780487804878, 0.0],\n",
       " 'news7': [0.0182648401826484, 0.0273972602739726, -0.2],\n",
       " 'news8': [0.014634146341463415, 0.03902439024390244, -0.4545454545454546],\n",
       " 'news9': [0.026845637583892617, 0.05145413870246085, -0.3142857142857143],\n",
       " 'news11': [0.02181818181818182, 0.03636363636363636, -0.24999999999999994],\n",
       " 'news12': [0.04225352112676056, 0.056338028169014086, -0.14285714285714288],\n",
       " 'news13': [0.02097902097902098, 0.06468531468531469, -0.5102040816326531]}"
      ]
     },
     "execution_count": 9,
     "metadata": {},
     "output_type": "execute_result"
    }
   ],
   "source": [
    "sentiment_scores = {}\n",
    "for i in range(len(NEWS_FILE)):\n",
    "    date = os.path.splitext(NEWS_FILE[i])[0].split('_')[-1].split('-')[-1]\n",
    "    if date == \"24\":\n",
    "        cleaned_words = process_text(NEWS_FILE[i])\n",
    "        positive_sentiment = 0\n",
    "        negative_sentiment = 0\n",
    "        for word in cleaned_words:\n",
    "            if word in positive_lexiceon:\n",
    "                positive_sentiment += 1\n",
    "            elif word in negative_lexiceon:\n",
    "                negative_sentiment += 1\n",
    "        \n",
    "        phi_pos = positive_sentiment / len(cleaned_words)\n",
    "        phi_neg = negative_sentiment / len(cleaned_words)\n",
    "        \n",
    "        phi_npt = (phi_pos - phi_neg) / (phi_pos + phi_neg)\n",
    "        \n",
    "        sentiment_scores[f\"news{i+1}\"] = [phi_pos, phi_neg, phi_npt]\n",
    "\n",
    "sentiment_scores"
   ]
  },
  {
   "cell_type": "code",
   "execution_count": 10,
   "id": "acec1eb3",
   "metadata": {},
   "outputs": [
    {
     "data": {
      "text/html": [
       "<div>\n",
       "<style scoped>\n",
       "    .dataframe tbody tr th:only-of-type {\n",
       "        vertical-align: middle;\n",
       "    }\n",
       "\n",
       "    .dataframe tbody tr th {\n",
       "        vertical-align: top;\n",
       "    }\n",
       "\n",
       "    .dataframe thead th {\n",
       "        text-align: right;\n",
       "    }\n",
       "</style>\n",
       "<table border=\"1\" class=\"dataframe\">\n",
       "  <thead>\n",
       "    <tr style=\"text-align: right;\">\n",
       "      <th></th>\n",
       "      <th>news1</th>\n",
       "      <th>news2</th>\n",
       "      <th>news3</th>\n",
       "      <th>news6</th>\n",
       "      <th>news7</th>\n",
       "      <th>news8</th>\n",
       "      <th>news9</th>\n",
       "      <th>news11</th>\n",
       "      <th>news12</th>\n",
       "      <th>news13</th>\n",
       "    </tr>\n",
       "  </thead>\n",
       "  <tbody>\n",
       "    <tr>\n",
       "      <th>positive</th>\n",
       "      <td>0.019868</td>\n",
       "      <td>0.034368</td>\n",
       "      <td>0.024030</td>\n",
       "      <td>0.030488</td>\n",
       "      <td>0.018265</td>\n",
       "      <td>0.014634</td>\n",
       "      <td>0.026846</td>\n",
       "      <td>0.021818</td>\n",
       "      <td>0.042254</td>\n",
       "      <td>0.020979</td>\n",
       "    </tr>\n",
       "    <tr>\n",
       "      <th>negative</th>\n",
       "      <td>0.033113</td>\n",
       "      <td>0.041020</td>\n",
       "      <td>0.070240</td>\n",
       "      <td>0.030488</td>\n",
       "      <td>0.027397</td>\n",
       "      <td>0.039024</td>\n",
       "      <td>0.051454</td>\n",
       "      <td>0.036364</td>\n",
       "      <td>0.056338</td>\n",
       "      <td>0.064685</td>\n",
       "    </tr>\n",
       "    <tr>\n",
       "      <th>npt_positive</th>\n",
       "      <td>-0.250000</td>\n",
       "      <td>-0.088235</td>\n",
       "      <td>-0.490196</td>\n",
       "      <td>0.000000</td>\n",
       "      <td>-0.200000</td>\n",
       "      <td>-0.454545</td>\n",
       "      <td>-0.314286</td>\n",
       "      <td>-0.250000</td>\n",
       "      <td>-0.142857</td>\n",
       "      <td>-0.510204</td>\n",
       "    </tr>\n",
       "  </tbody>\n",
       "</table>\n",
       "</div>"
      ],
      "text/plain": [
       "                 news1     news2     news3     news6     news7     news8  \\\n",
       "positive      0.019868  0.034368  0.024030  0.030488  0.018265  0.014634   \n",
       "negative      0.033113  0.041020  0.070240  0.030488  0.027397  0.039024   \n",
       "npt_positive -0.250000 -0.088235 -0.490196  0.000000 -0.200000 -0.454545   \n",
       "\n",
       "                 news9    news11    news12    news13  \n",
       "positive      0.026846  0.021818  0.042254  0.020979  \n",
       "negative      0.051454  0.036364  0.056338  0.064685  \n",
       "npt_positive -0.314286 -0.250000 -0.142857 -0.510204  "
      ]
     },
     "execution_count": 10,
     "metadata": {},
     "output_type": "execute_result"
    }
   ],
   "source": [
    "sentiment = pd.DataFrame(sentiment_scores, index = ['positive','negative','npt_positive'] )\n",
    "sentiment"
   ]
  },
  {
   "cell_type": "code",
   "execution_count": null,
   "id": "f712f834",
   "metadata": {},
   "outputs": [],
   "source": []
  },
  {
   "cell_type": "code",
   "execution_count": null,
   "id": "b41ca2b3",
   "metadata": {},
   "outputs": [],
   "source": []
  }
 ],
 "metadata": {
  "kernelspec": {
   "display_name": "Python 3 (ipykernel)",
   "language": "python",
   "name": "python3"
  },
  "language_info": {
   "codemirror_mode": {
    "name": "ipython",
    "version": 3
   },
   "file_extension": ".py",
   "mimetype": "text/x-python",
   "name": "python",
   "nbconvert_exporter": "python",
   "pygments_lexer": "ipython3",
   "version": "3.9.12"
  }
 },
 "nbformat": 4,
 "nbformat_minor": 5
}
